{
 "cells": [
  {
   "attachments": {},
   "cell_type": "markdown",
   "metadata": {},
   "source": [
    "# 第２章 Pythonプログラミングの基本を学ぶ\n",
    "## 2.1 データ型\n",
    "### 2.1.1 型とは\n",
    "`type()`を使うとわかる"
   ]
  },
  {
   "cell_type": "code",
   "execution_count": 2,
   "metadata": {},
   "outputs": [
    {
     "name": "stdout",
     "output_type": "stream",
     "text": [
      "<class 'int'>\n"
     ]
    }
   ],
   "source": [
    "print(type(10))"
   ]
  },
  {
   "cell_type": "code",
   "execution_count": 3,
   "metadata": {},
   "outputs": [
    {
     "name": "stdout",
     "output_type": "stream",
     "text": [
      "<class 'str'>\n"
     ]
    }
   ],
   "source": [
    "print(type(\"foo\"))"
   ]
  },
  {
   "attachments": {},
   "cell_type": "markdown",
   "metadata": {},
   "source": [
    "### 2.1.2 数値\n"
   ]
  },
  {
   "cell_type": "code",
   "execution_count": 4,
   "metadata": {},
   "outputs": [
    {
     "name": "stdout",
     "output_type": "stream",
     "text": [
      "<class 'int'>\n",
      "<class 'float'>\n",
      "<class 'float'>\n"
     ]
    }
   ],
   "source": [
    "print(type(-5))\n",
    "print(type(2.73))\n",
    "print(type(-5.0))\n"
   ]
  },
  {
   "cell_type": "code",
   "execution_count": 5,
   "metadata": {},
   "outputs": [
    {
     "name": "stdout",
     "output_type": "stream",
     "text": [
      "<class 'int'>\n",
      "<class 'float'>\n",
      "<class 'float'>\n",
      "<class 'float'>\n",
      "<class 'int'>\n",
      "<class 'int'>\n"
     ]
    }
   ],
   "source": [
    "print(type(5+4+10))\n",
    "print(type(5+4.0+10))\n",
    "print(type(4.3/2))\n",
    "print(type(4/2))\n",
    "print(type(5//2))\n",
    "print(type(5%2))"
   ]
  },
  {
   "attachments": {},
   "cell_type": "markdown",
   "metadata": {},
   "source": [
    "> 数値は整数、浮動小数点数が混在していても計算できるが、混在している場合は基本的に浮動小数点数となる。"
   ]
  },
  {
   "attachments": {},
   "cell_type": "markdown",
   "metadata": {},
   "source": [
    "### 2.1.3 文字列"
   ]
  },
  {
   "cell_type": "code",
   "execution_count": 6,
   "metadata": {},
   "outputs": [
    {
     "name": "stdout",
     "output_type": "stream",
     "text": [
      "<class 'str'>\n",
      "<class 'str'>\n",
      "<class 'str'>\n"
     ]
    }
   ],
   "source": [
    "print(type(\"foo\"))\n",
    "print(type('hoo'))\n",
    "print(type(\"\"\"hogehogehogeho\n",
    "           fugafufa\n",
    "           barabar\n",
    "           booboo\"\"\"))\n"
   ]
  },
  {
   "cell_type": "code",
   "execution_count": 7,
   "metadata": {},
   "outputs": [
    {
     "ename": "TypeError",
     "evalue": "can only concatenate str (not \"int\") to str",
     "output_type": "error",
     "traceback": [
      "\u001b[0;31m---------------------------------------------------------------------------\u001b[0m",
      "\u001b[0;31mTypeError\u001b[0m                                 Traceback (most recent call last)",
      "Cell \u001b[0;32mIn[7], line 1\u001b[0m\n\u001b[0;32m----> 1\u001b[0m \u001b[39mprint\u001b[39m(\u001b[39m\"\u001b[39;49m\u001b[39mI am \u001b[39;49m\u001b[39m\"\u001b[39;49m\u001b[39m+\u001b[39;49m\u001b[39m20\u001b[39;49m\u001b[39m+\u001b[39m\u001b[39m\"\u001b[39m\u001b[39m years old\u001b[39m\u001b[39m\"\u001b[39m)\n",
      "\u001b[0;31mTypeError\u001b[0m: can only concatenate str (not \"int\") to str"
     ]
    }
   ],
   "source": [
    "print(\"I am \"+20+\" years old\") # エラーが出る"
   ]
  },
  {
   "attachments": {},
   "cell_type": "markdown",
   "metadata": {},
   "source": [
    "## 2.2 変数\n",
    "### 2.2.1 変数とは\n",
    "> =　は値を変数に代入するの意味"
   ]
  },
  {
   "cell_type": "code",
   "execution_count": 8,
   "metadata": {},
   "outputs": [
    {
     "name": "stdout",
     "output_type": "stream",
     "text": [
      "100\n"
     ]
    }
   ],
   "source": [
    "a = 10\n",
    "b = a * 10\n",
    "print(b)"
   ]
  },
  {
   "attachments": {},
   "cell_type": "markdown",
   "metadata": {},
   "source": [
    "### 2.2.2 変数名\n",
    "Pythonの慣習として\n",
    "\n",
    "> **変数名は小文字で始まり、\"_\"で単語感をつなぐのが慣例**"
   ]
  },
  {
   "cell_type": "code",
   "execution_count": 9,
   "metadata": {},
   "outputs": [
    {
     "name": "stdout",
     "output_type": "stream",
     "text": [
      "1650\n"
     ]
    }
   ],
   "source": [
    "green_apple =100\n",
    "summer_orange = 500\n",
    "sales_tax = 0.1\n",
    "price = int((green_apple * 5 + summer_orange * 2) *(1.0 + sales_tax))\n",
    "print(price)"
   ]
  },
  {
   "attachments": {},
   "cell_type": "markdown",
   "metadata": {},
   "source": [
    "## 2.3 データ構造\n",
    "### 2.3.1 リスト"
   ]
  },
  {
   "attachments": {},
   "cell_type": "markdown",
   "metadata": {},
   "source": [
    "> sliceではリストがコピーされるので、スライスされたリストの要素を変更しても元んリストの値は変わらない。"
   ]
  },
  {
   "cell_type": "code",
   "execution_count": 28,
   "metadata": {},
   "outputs": [
    {
     "name": "stdout",
     "output_type": "stream",
     "text": [
      "<class 'list'>\n",
      "10000\n",
      "20000\n",
      "<class 'int'>\n",
      "20\n",
      "[20, 20000, 10000, 1000, 20000]\n",
      "5\n",
      "[10000, 1000] [10000, 1000, 20000] [20, 20000, 10000, 1000]\n",
      "['hoge', 1000]\n",
      "[20, 20000, 10000, 1000, 20000]\n",
      "[20, 20000, 10000, 1000, 20000, 10000000000000000000]\n",
      "['ryo', 'mui', 'yuya', 'toru', 'akemi', 'cocoa', 'natsu', 'milk']\n",
      "[20, 1000, 10000, 20000, 20000, 10000000000000000000]\n",
      "[20, 20000, 10000, 1000, 20000, 10000000000000000000]\n",
      "[20, 1000, 10000, 20000, 20000, 10000000000000000000]\n",
      "False\n",
      "True\n"
     ]
    }
   ],
   "source": [
    "prices = [10000,20000,10000,1000,20000]\n",
    "print(type(prices))\n",
    "print(prices[0])\n",
    "print(prices[4])\n",
    "print(type(prices[0]))\n",
    "prices[0] = 20\n",
    "print(prices[0])\n",
    "print(prices)\n",
    "print(len(prices))\n",
    "\n",
    "p1 = prices[2:4]\n",
    "p2=prices[2:]\n",
    "p3 = prices[:4] \n",
    "print(p1,p2,p3)\n",
    "\n",
    "p1[0] = \"hoge\"\n",
    "\n",
    "print(p1)\n",
    "print(prices)\n",
    "\n",
    "prices.append(10000000000000000000)\n",
    "print(prices)\n",
    "\n",
    "\n",
    "humans =[\"ryo\", \"mui\",\"yuya\",\"toru\",\"akemi\"]\n",
    "dogs =[\"cocoa\", \"natsu\",\"milk\"]\n",
    "family = humans + dogs\n",
    "print(family)\n",
    "\n",
    "sprices = sorted(prices)\n",
    "print(sprices)\n",
    "print(prices)\n",
    "prices.sort()\n",
    "print(prices)\n",
    "\n",
    "\n",
    "t = \"Shiro\" in family\n",
    "print(t)\n",
    "\n",
    "s = \"ryo\" in family\n",
    "print(s)"
   ]
  },
  {
   "cell_type": "code",
   "execution_count": 17,
   "metadata": {},
   "outputs": [
    {
     "name": "stdout",
     "output_type": "stream",
     "text": [
      "a new sterophonic sound spectacular\n",
      "['a', 'new', 'sterophonic', 'sound', 'spectacular']\n",
      "<class 'str'>\n",
      "<class 'list'>\n",
      "a*new*sterophonic*sound*spectacular\n",
      "a new Sterophonic Sound Spectacular\n",
      "a new sterophonic sound spectacular\n"
     ]
    }
   ],
   "source": [
    "string = \"a new sterophonic sound spectacular\"\n",
    "slist = string.split(\" \")\n",
    "print(string)\n",
    "print(slist)\n",
    "print(type(string))\n",
    "print(type(slist))\n",
    "\n",
    "string2 = \"*\".join(slist)\n",
    "print(string2)\n",
    "\n",
    "srep = string.replace(\"s\", \"S\") # 文字式の置換はreplaceでおこなれる\n",
    "print(srep)\n",
    "print(string)"
   ]
  },
  {
   "cell_type": "code",
   "execution_count": 21,
   "metadata": {},
   "outputs": [
    {
     "name": "stdout",
     "output_type": "stream",
     "text": [
      "foo\n",
      "foo         heeee\n",
      "           foo\n"
     ]
    }
   ],
   "source": [
    "string = \"           foo         \"\n",
    "srp = string.strip() # 空白の削除\n",
    "print(srp)\n",
    "lsrp = string.lstrip()\n",
    "rsrp = string.rstrip()\n",
    "print(lsrp + \"heeee\")\n",
    "print(rsrp)"
   ]
  },
  {
   "attachments": {},
   "cell_type": "markdown",
   "metadata": {},
   "source": [
    "### 2.3.2 タプル\n",
    "> 再代入ができない"
   ]
  },
  {
   "cell_type": "code",
   "execution_count": 31,
   "metadata": {},
   "outputs": [
    {
     "name": "stdout",
     "output_type": "stream",
     "text": [
      "<class 'tuple'>\n",
      "(1000, 20000, 10000, 100, 20000)\n"
     ]
    }
   ],
   "source": [
    "prices = (1000,20000,10000,100,20000)\n",
    "print(type(prices))\n",
    "print(prices)\n",
    "\n",
    "# prices[0] = 20\n",
    "# print(prices)"
   ]
  },
  {
   "cell_type": "code",
   "execution_count": 33,
   "metadata": {},
   "outputs": [
    {
     "name": "stdout",
     "output_type": "stream",
     "text": [
      "['ryo', 'mui', 'yuya', 'toru', 'akemi']\n",
      "('cocoa', 'natsu', 'milk')\n"
     ]
    }
   ],
   "source": [
    "humans =(\"ryo\", \"mui\",\"yuya\",\"toru\",\"akemi\")\n",
    "dogs =[\"cocoa\", \"natsu\",\"milk\"]\n",
    "h = list(humans)\n",
    "print(h)\n",
    "d = tuple(dogs)\n",
    "print(d)\n",
    "# family = humans + dogs\n",
    "# print(family)"
   ]
  },
  {
   "attachments": {},
   "cell_type": "markdown",
   "metadata": {},
   "source": [
    "### 2.3.3 辞書\n",
    "> 辞書のキーに順番はない\n",
    "\n",
    "> 辞書のコピーにはcopy()メソッドを使う。=を使っても別名ができるだけです。"
   ]
  },
  {
   "cell_type": "code",
   "execution_count": 34,
   "metadata": {},
   "outputs": [
    {
     "name": "stdout",
     "output_type": "stream",
     "text": [
      "10000\n",
      "<class 'dict'>\n"
     ]
    }
   ],
   "source": [
    "sales = {\"January\":10000, \"Feburary\":20000, \"March\":10000, \"April\":10000,\"May\":10,}\n",
    "print(sales[\"January\"])\n",
    "print(type(sales))\n"
   ]
  },
  {
   "cell_type": "code",
   "execution_count": 37,
   "metadata": {},
   "outputs": [
    {
     "name": "stdout",
     "output_type": "stream",
     "text": [
      "{'mui': '6/7', 'akemi': '1/16', 'toru': '1/31', 'yuya': '10/17'}\n",
      "[('mui', '6/7'), ('akemi', '1/16'), ('toru', '1/31'), ('yuya', '10/17')]\n"
     ]
    }
   ],
   "source": [
    "birthday = {}\n",
    "birthday[\"ryo\"] = \"2/12\"\n",
    "birthday[\"mui\"] =\"6/7\"\n",
    "birthday[\"akemi\"] =\"1/16\"\n",
    "birthday[\"toru\"] =\"1/31\"\n",
    "birthday[\"yuya\"] =\"10/17\"\n",
    "birthday.pop(\"ryo\")\n",
    "print(birthday)\n",
    "\n",
    "birthday2 = birthday.copy()\n",
    "print(list(birthday.items()))"
   ]
  },
  {
   "attachments": {},
   "cell_type": "markdown",
   "metadata": {},
   "source": [
    "## 2.4 基本構文\n",
    "### 2.4.1 条件分岐\n",
    "省略\n",
    "### 2.4.2 繰り返し\n",
    "複数の配列を同時にfor分でループしたい時はzip()を使うといいです。"
   ]
  },
  {
   "cell_type": "code",
   "execution_count": 43,
   "metadata": {},
   "outputs": [
    {
     "name": "stdout",
     "output_type": "stream",
     "text": [
      "human =  ryo \tdog =  cocoa\n",
      "human =  mui \tdog =  natsu\n",
      "human =  yuya \tdog =  milk\n"
     ]
    }
   ],
   "source": [
    "humans =[\"ryo\", \"mui\",\"yuya\"]\n",
    "dogs =[\"cocoa\", \"natsu\",\"milk\"]\n",
    "for h,d in zip(humans, dogs):\n",
    "    print(\"human = \", h,\"\\tdog = \",d) # \\tでタブ記号の出力を表している"
   ]
  },
  {
   "attachments": {},
   "cell_type": "markdown",
   "metadata": {},
   "source": [
    "#### リスト内の内包表現"
   ]
  },
  {
   "cell_type": "code",
   "execution_count": 45,
   "metadata": {},
   "outputs": [
    {
     "name": "stdout",
     "output_type": "stream",
     "text": [
      "[4, 16, 36, 64, 100]\n"
     ]
    }
   ],
   "source": [
    "nums = [n**2 for n in range(1,11) if n %2 == 0]\n",
    "print(nums)"
   ]
  },
  {
   "attachments": {},
   "cell_type": "markdown",
   "metadata": {},
   "source": [
    "## 2.5 関数\n",
    "> pythonでは,\n",
    "> forやif文はスコープを作らない"
   ]
  },
  {
   "attachments": {},
   "cell_type": "markdown",
   "metadata": {},
   "source": [
    "## 2.6 ライブラリの利用"
   ]
  },
  {
   "cell_type": "code",
   "execution_count": 47,
   "metadata": {},
   "outputs": [
    {
     "name": "stdout",
     "output_type": "stream",
     "text": [
      "<class 'module'>\n",
      "<module 'math' from '/Users/zenonrk/opt/anaconda3/envs/deeplearning/lib/python3.9/lib-dynload/math.cpython-39-darwin.so'>\n",
      "3.141592653589793\n",
      "1.0\n"
     ]
    }
   ],
   "source": [
    "import math\n",
    "\n",
    "print(type(math))\n",
    "print(math)\n",
    "print(math.pi)\n",
    "print(math.cos(0))"
   ]
  },
  {
   "cell_type": "code",
   "execution_count": 49,
   "metadata": {},
   "outputs": [
    {
     "name": "stdout",
     "output_type": "stream",
     "text": [
      "[1 2 3]\n",
      "1.0\n"
     ]
    }
   ],
   "source": [
    "import numpy as np\n",
    "npa = np.array([1,2,3])\n",
    "print(npa)\n",
    "\n",
    "from math import cos \n",
    "print(cos(0))"
   ]
  },
  {
   "attachments": {},
   "cell_type": "markdown",
   "metadata": {},
   "source": [
    "### 2.6.2モジュールの利用\n",
    "**ライブラリ**は**モジュール**および**パッケージ**という単位で管理されています。\n",
    "\n",
    "**モジュール**は幾つかの関数やクラスをまとめたPythonのソースファイルのことです。モジュールをいくつかまとめたものを**パッケージ**と言います。標準パッケージにないモジュールは`pip`コマンドを使うことでインストールすることができます。"
   ]
  },
  {
   "attachments": {},
   "cell_type": "markdown",
   "metadata": {},
   "source": [
    "#### osモジュール\n",
    "osモジュールはPythonに元から入っていた標準モジュールの1つでインストールしなくてもimpおrつればすぐ使えるようになります。\n",
    "\n",
    "　ファイルやディレクトリの操作をPythonを通じて行うことができる。"
   ]
  },
  {
   "cell_type": "code",
   "execution_count": 50,
   "metadata": {},
   "outputs": [
    {
     "name": "stdout",
     "output_type": "stream",
     "text": [
      "/Users/zenonrk/Library/Mobile Documents/com~apple~CloudDocs/programming/book/03_Pythonによる医用画像処理入門/Chapter2\n",
      "['chapter2.ipynb', '.ipynb_checkpoints']\n"
     ]
    },
    {
     "ename": "FileNotFoundError",
     "evalue": "[Errno 2] No such file or directory: 'sample_data'",
     "output_type": "error",
     "traceback": [
      "\u001b[0;31m---------------------------------------------------------------------------\u001b[0m",
      "\u001b[0;31mFileNotFoundError\u001b[0m                         Traceback (most recent call last)",
      "Cell \u001b[0;32mIn[50], line 4\u001b[0m\n\u001b[1;32m      2\u001b[0m \u001b[39mprint\u001b[39m(os\u001b[39m.\u001b[39mgetcwd())\n\u001b[1;32m      3\u001b[0m \u001b[39mprint\u001b[39m(os\u001b[39m.\u001b[39mlistdir())\n\u001b[0;32m----> 4\u001b[0m os\u001b[39m.\u001b[39;49mchdir(\u001b[39m\"\u001b[39;49m\u001b[39msample_data\u001b[39;49m\u001b[39m\"\u001b[39;49m)\n\u001b[1;32m      5\u001b[0m os\u001b[39m.\u001b[39mmkdir(\u001b[39m\"\u001b[39m\u001b[39mexample\u001b[39m\u001b[39m\"\u001b[39m)\n",
      "\u001b[0;31mFileNotFoundError\u001b[0m: [Errno 2] No such file or directory: 'sample_data'"
     ]
    }
   ],
   "source": [
    "import os \n",
    "print(os.getcwd())\n",
    "print(os.listdir())\n",
    "os.chdir(\"sample_data\")\n",
    "os.mkdir(\"example\")"
   ]
  },
  {
   "attachments": {},
   "cell_type": "markdown",
   "metadata": {},
   "source": [
    "- dataetimeモジュール\n"
   ]
  },
  {
   "cell_type": "code",
   "execution_count": 51,
   "metadata": {},
   "outputs": [
    {
     "name": "stdout",
     "output_type": "stream",
     "text": [
      "2023-01-29 14:30:42.568127\n",
      "<class 'datetime.datetime'>\n",
      "2023 1 29 14 30 42\n",
      "2023-01-29\n",
      "<class 'datetime.date'>\n",
      "14:30:42.568127\n",
      "<class 'datetime.time'>\n"
     ]
    }
   ],
   "source": [
    "import datetime\n",
    "now = datetime.datetime.now()\n",
    "print(now)\n",
    "print(type(now))\n",
    "print(now.year, now.month, now.day, now.hour, now.minute, now.second)\n",
    "print(now.date())\n",
    "print(type(now.date()))\n",
    "print(now.time())\n",
    "print(type(now.time()))"
   ]
  },
  {
   "cell_type": "code",
   "execution_count": 59,
   "metadata": {},
   "outputs": [
    {
     "name": "stdout",
     "output_type": "stream",
     "text": [
      "2023-01-29\n",
      "<class 'datetime.date'>\n",
      "2023 1 29\n",
      "16:59:30\n",
      "<class 'datetime.time'>\n",
      "1170 days, 14:30:42.568127\n",
      "<class 'datetime.timedelta'>\n",
      "1170\n",
      "101140242.568127\n",
      "2023-01-29 (Sun) 14:30:42\n",
      "2020-01-14 17:40:00\n"
     ]
    }
   ],
   "source": [
    "import datetime\n",
    "today = datetime.date.today()\n",
    "print(today)\n",
    "print(type(today))\n",
    "print(today.year, today.month, today.day)\n",
    "\n",
    "dtt = datetime.time(hour=16, minute=59, second=30)\n",
    "print(dtt)\n",
    "print(type(dtt))\n",
    "\n",
    "dtdt = datetime.datetime(year=2019,month=11,day=16)\n",
    "tdelta = now - dtdt\n",
    "print(tdelta)\n",
    "print(type(tdelta))\n",
    "print(tdelta.days)\n",
    "print(tdelta.total_seconds())\n",
    "\n",
    "fmt = now.strftime(\"%Y-%m-%d (%a) %H:%M:%S\")\n",
    "print(fmt)\n",
    "\n",
    "s = \"2020-1-14 17:40\"\n",
    "dtst = datetime.datetime.strptime(s,\"%Y-%m-%d %H:%M\")\n",
    "print(dtst)\n"
   ]
  },
  {
   "attachments": {},
   "cell_type": "markdown",
   "metadata": {},
   "source": [
    "- numpy\n",
    "\n"
   ]
  },
  {
   "cell_type": "code",
   "execution_count": 61,
   "metadata": {},
   "outputs": [
    {
     "name": "stdout",
     "output_type": "stream",
     "text": [
      "<class 'numpy.ndarray'>\n",
      "[1 3 5 9]\n",
      "<class 'list'>\n",
      "[1, 3, 5, 9]\n",
      "<class 'list'>\n"
     ]
    }
   ],
   "source": [
    "import numpy as np\n",
    "\n",
    "lst = [1,3,5,9]\n",
    "nlst = np.array(lst)\n",
    "\n",
    "print(type(nlst))\n",
    "print(nlst)\n",
    "print(type(lst))\n",
    "print(lst)\n",
    "\n",
    "lst0 = nlst.tolist()\n",
    "print(type(lst0))"
   ]
  },
  {
   "cell_type": "code",
   "execution_count": 63,
   "metadata": {},
   "outputs": [
    {
     "name": "stdout",
     "output_type": "stream",
     "text": [
      "[[[1 2]\n",
      "  [3 4]\n",
      "  [5 6]\n",
      "  [7 8]]]\n",
      "int64\n",
      "(1, 4, 2)\n",
      "3\n",
      "8\n"
     ]
    }
   ],
   "source": [
    "a = np.array([[[1,2],[3,4],[5,6],[7,8]]])\n",
    "print(a)\n",
    "print(a.dtype)\n",
    "print(a.shape)\n",
    "print(a.ndim)\n",
    "print(a.size)"
   ]
  },
  {
   "cell_type": "code",
   "execution_count": 67,
   "metadata": {},
   "outputs": [
    {
     "name": "stdout",
     "output_type": "stream",
     "text": [
      "[0. 0. 0. 0.]\n",
      "[1. 1. 1. 1. 1.]\n",
      "[0 1 2 3 4]\n",
      "[100 100 100 100]\n"
     ]
    }
   ],
   "source": [
    "list0 = np.zeros(4)\n",
    "print(list0)\n",
    "\n",
    "list1 = np.ones(5)\n",
    "print(list1)\n",
    "\n",
    "list2 = np.arange(5)\n",
    "print(list2)\n",
    "\n",
    "list3 = np.full(4,100)\n",
    "print(list3)"
   ]
  },
  {
   "cell_type": "code",
   "execution_count": 70,
   "metadata": {},
   "outputs": [
    {
     "name": "stdout",
     "output_type": "stream",
     "text": [
      "[[0. 0. 0. 0.]\n",
      " [0. 0. 0. 0.]]\n",
      "4\n",
      "4\n"
     ]
    }
   ],
   "source": [
    "# reshape\n",
    "\n",
    "list0= np.zeros(8)\n",
    "matrix0 = list0.reshape(2,4)\n",
    "print(matrix0)\n",
    "\n",
    "\n",
    "a = np.array([[1,2,3],[4,5,6]])\n",
    "print(a[1][0])\n",
    "print(a[1,0])\n"
   ]
  },
  {
   "cell_type": "code",
   "execution_count": 72,
   "metadata": {},
   "outputs": [
    {
     "name": "stdout",
     "output_type": "stream",
     "text": [
      "[ 0  1  2  3  4  5  6  7  8  9 10 11 12 13 14 15 16 17 18 19 20 21 22 23\n",
      " 24 25 26 27 28 29 30 31 32 33 34 35 36 37 38 39 40 41 42 43 44 45 46 47\n",
      " 48 49 50]\n",
      "50\n",
      "[2 3 4 5]\n",
      "[40 41 42 43 44 45 46 47 48 49 50]\n"
     ]
    }
   ],
   "source": [
    "lst = np.arange(51)\n",
    "\n",
    "print(lst)\n",
    "print(lst[-1])\n",
    "print(lst[2:6])\n",
    "print(lst[40:])"
   ]
  },
  {
   "attachments": {},
   "cell_type": "markdown",
   "metadata": {},
   "source": [
    "> Numpy配列では、スライスによって配列はコピーされません！！！なので、スライス上での値変更は元のNumpy配列にも反映されます。なので`copy()`を使いましょう\n",
    "> "
   ]
  },
  {
   "cell_type": "code",
   "execution_count": 80,
   "metadata": {},
   "outputs": [
    {
     "name": "stdout",
     "output_type": "stream",
     "text": [
      "[ 0  1  2  3  4  5  6  7  8  9 10 11 12 13 14]\n",
      "[2 3 4 5]\n",
      "[  2 100   4   5]\n",
      "[ 0  1  2  3  4  5  6  7  8  9 10 11 12 13 14]\n"
     ]
    }
   ],
   "source": [
    "lst = np.arange(15)\n",
    "print(lst)\n",
    "# dv = lst[2:6]\n",
    "dv2 = lst[2:6].copy()\n",
    "# dv = lst[2:6]\n",
    "print(dv2)\n",
    "dv2[1] = 100\n",
    "print(dv2)\n",
    "print(lst)"
   ]
  },
  {
   "cell_type": "code",
   "execution_count": 79,
   "metadata": {},
   "outputs": [
    {
     "name": "stdout",
     "output_type": "stream",
     "text": [
      "[[[False False False False]\n",
      "  [False False False  True]\n",
      "  [False False False False]\n",
      "  [ True  True  True  True]\n",
      "  [ True  True  True  True]\n",
      "  [False False False  True]]]\n",
      "[ 7  7  8  9 10 10 11 12 13  7]\n",
      "[100   7   8   9  10  10  11  12  13   7]\n",
      "(10,)\n",
      "[[[ 1  2  3  4]\n",
      "  [ 4  5  6  7]\n",
      "  [ 3  4  5  6]\n",
      "  [ 7  8  9 10]\n",
      "  [10 11 12 13]\n",
      "  [ 4  5  6  7]]]\n"
     ]
    }
   ],
   "source": [
    "a = np.array([[[1,2,3,4],[4,5,6,7],[3,4,5,6],[7,8,9,10],[10,11,12,13],[4,5,6,7]]])\n",
    "print(a>6)\n",
    "b =a[a>6]\n",
    "print(b)\n",
    "b[0] = 100\n",
    "print(b)\n",
    "print(b.shape)\n",
    "print(a)"
   ]
  },
  {
   "attachments": {},
   "cell_type": "markdown",
   "metadata": {},
   "source": [
    "ベクトルと行列を計算する時は、\n",
    "\n",
    "**ベクトルを行列としてみたときに1行n列かn行1列かどっちか都合のいい方として計算される。**"
   ]
  },
  {
   "attachments": {},
   "cell_type": "markdown",
   "metadata": {},
   "source": [
    "### 2.6.4 Matplotlib"
   ]
  },
  {
   "cell_type": "code",
   "execution_count": 83,
   "metadata": {},
   "outputs": [
    {
     "name": "stderr",
     "output_type": "stream",
     "text": [
      "/var/folders/wh/8g84my_j6wxc7w6pms6k18ww0000gn/T/ipykernel_10477/77566493.py:20: UserWarning: Matplotlib is currently using module://matplotlib_inline.backend_inline, which is a non-GUI backend, so cannot show the figure.\n",
      "  fig.show()\n"
     ]
    },
    {
     "data": {
      "image/png": "[encoded data removed]",
      "text/plain": [
       "<Figure size 640x480 with 1 Axes>"
      ]
     },
     "metadata": {},
     "output_type": "display_data"
    }
   ],
   "source": [
    "%matplotlib inline\n",
    "import matplotlib.pyplot as plt\n",
    "\n",
    "# 数値データの作成\n",
    "x = np.arange(0,8,0.1)\n",
    "y1 = np.cos(x)\n",
    "y2 = np.sin(x)\n",
    "\n",
    "# グラフの描画\n",
    "fig = plt.figure() # figureオブジェクトを作成する。これで何も描かれていないウィンドウが形成される。\n",
    "ax1 = fig.add_subplot(1,1,1) # figureをnrows=1行ncols=1列でindex=1番目なので、「全体で1つのグラフを作るよ」という意味。\n",
    "ax1.plot(x,y1,label=\"cos\")\n",
    "ax1.plot(x,y2,linestyle=\"dashed\",label=\"sin\")\n",
    "ax1.set_xlabel(\"X\")\n",
    "ax1.set_ylabel(\"Y\")\n",
    "ax1.set_xlim(0,10)\n",
    "ax1.set_ylim(-1,1)\n",
    "ax1.set_title(\"test figure\")\n",
    "ax1.legend()\n",
    "fig.show()\n",
    "\n",
    "\n"
   ]
  },
  {
   "cell_type": "code",
   "execution_count": 84,
   "metadata": {},
   "outputs": [
    {
     "name": "stderr",
     "output_type": "stream",
     "text": [
      "/var/folders/wh/8g84my_j6wxc7w6pms6k18ww0000gn/T/ipykernel_10477/3557057782.py:6: UserWarning: Matplotlib is currently using module://matplotlib_inline.backend_inline, which is a non-GUI backend, so cannot show the figure.\n",
      "  fig.show()\n"
     ]
    },
    {
     "data": {
      "image/png": "[encoded data removed]",
      "text/plain": [
       "<Figure size 640x480 with 1 Axes>"
      ]
     },
     "metadata": {},
     "output_type": "display_data"
    }
   ],
   "source": [
    "x = np.arange(0,5,0.1)\n",
    "y = np.arange(0,5,0.1) + np.random.randn(50)\n",
    "fig = plt.figure()\n",
    "ax1 = fig.add_subplot(1,1,1)\n",
    "ax1.scatter(x,y,color=\"red\")\n",
    "fig.show()"
   ]
  },
  {
   "cell_type": "code",
   "execution_count": 88,
   "metadata": {},
   "outputs": [
    {
     "name": "stderr",
     "output_type": "stream",
     "text": [
      "/var/folders/wh/8g84my_j6wxc7w6pms6k18ww0000gn/T/ipykernel_10477/3953334392.py:14: UserWarning: Matplotlib is currently using module://matplotlib_inline.backend_inline, which is a non-GUI backend, so cannot show the figure.\n",
      "  fig.show()\n"
     ]
    },
    {
     "data": {
      "image/png": "[encoded data removed]",
      "text/plain": [
       "<Figure size 640x480 with 2 Axes>"
      ]
     },
     "metadata": {},
     "output_type": "display_data"
    }
   ],
   "source": [
    "# 数値データの作成\n",
    "x = np.arange(0,8,0.1)\n",
    "y1 = 3*np.cos(x) -5\n",
    "y2 = 2*np.sin(x)\n",
    "# figureの作成\n",
    "fig = plt.figure()\n",
    "# グラフの描画(1)\n",
    "ax1 = fig.add_subplot(1,2,1) # ここを変えているから1つの図に2つのグラフが描画されている。\n",
    "ax1.plot(x,y1, color=\"green\")\n",
    "ax1.set_ylim(-8,3) # y軸を加えた\n",
    "# グラフの描画（2）\n",
    "ax2 = fig.add_subplot(1,2,2, sharey=ax1) # ここに加えることでyを共通化して描画\n",
    "ax2.plot(x,y2,color=\"cyan\")\n",
    "fig.show()"
   ]
  },
  {
   "cell_type": "code",
   "execution_count": 89,
   "metadata": {},
   "outputs": [
    {
     "name": "stderr",
     "output_type": "stream",
     "text": [
      "/var/folders/wh/8g84my_j6wxc7w6pms6k18ww0000gn/T/ipykernel_10477/1910254749.py:19: UserWarning: Matplotlib is currently using module://matplotlib_inline.backend_inline, which is a non-GUI backend, so cannot show the figure.\n",
      "  fig.show()\n"
     ]
    },
    {
     "data": {
      "image/png": "[encoded data removed]",
      "text/plain": [
       "<Figure size 640x480 with 2 Axes>"
      ]
     },
     "metadata": {},
     "output_type": "display_data"
    }
   ],
   "source": [
    "# x軸を共有する2つのグラフを描く例を示す\n",
    "\n",
    "# 数値データ\n",
    "x = np.arange(0,8,0.1)\n",
    "y1 = 1.0 / np.exp(x)\n",
    "y2 = 5.0/(1+np.exp(-x)) -1\n",
    "\n",
    "# Figureの作成\n",
    "fig = plt.figure()\n",
    "# グラフの描画(1)\n",
    "ax1 = fig.add_subplot(1,1,1)\n",
    "ax1.plot(x,y1,color=\"green\", label=\"loss\")\n",
    "ax1.set_ylabel(\"loss\")\n",
    "ax1.set_xlabel(\"epoch\")\n",
    "# グラフの描画(2)\n",
    "ax2 = ax1.twinx() # この記述によってx軸を共有するようになる\n",
    "ax2.plot(x,y2,color=\"cyan\",label=\"acc\")\n",
    "ax2.set_ylabel(\"acc\")\n",
    "fig.show()"
   ]
  },
  {
   "cell_type": "code",
   "execution_count": 91,
   "metadata": {},
   "outputs": [
    {
     "data": {
      "image/png": "[encoded data removed]",
      "text/plain": [
       "<Figure size 640x480 with 1 Axes>"
      ]
     },
     "metadata": {},
     "output_type": "display_data"
    }
   ],
   "source": [
    "# matplotlibの簡易的な書き方\n",
    "# 数値データの作成\n",
    "x = np.random.poisson(lam=3.5,size=1000)\n",
    "#グラフの描画\n",
    "plt.hist(x,ec=\"black\",rwidth=0.8,bins=10, density=False)\n",
    "plt.xlabel(\"X\")\n",
    "plt.ylabel(\"Y\")\n",
    "plt.title(\"test figure\")\n",
    "plt.show()\n"
   ]
  },
  {
   "cell_type": "code",
   "execution_count": null,
   "metadata": {},
   "outputs": [],
   "source": []
  },
  {
   "cell_type": "markdown",
   "metadata": {},
   "source": []
  }
 ],
 "metadata": {
  "kernelspec": {
   "display_name": "deeplearning",
   "language": "python",
   "name": "python3"
  },
  "language_info": {
   "codemirror_mode": {
    "name": "ipython",
    "version": 3
   },
   "file_extension": ".py",
   "mimetype": "text/x-python",
   "name": "python",
   "nbconvert_exporter": "python",
   "pygments_lexer": "ipython3",
   "version": "3.9.16"
  },
  "orig_nbformat": 4,
  "vscode": {
   "interpreter": {
    "hash": "b4683b78d7ec118a5736f9f91dc1c4b4f0fb8ece4c9a869fc1b20e6bb285f951"
   }
  }
 },
 "nbformat": 4,
 "nbformat_minor": 2
}
